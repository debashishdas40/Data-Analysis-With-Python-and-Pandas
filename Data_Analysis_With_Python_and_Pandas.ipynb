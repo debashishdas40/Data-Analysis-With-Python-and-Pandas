{
  "nbformat": 4,
  "nbformat_minor": 0,
  "metadata": {
    "colab": {
      "provenance": [],
      "authorship_tag": "ABX9TyMck85LMWcW+D7MXPg8a5m0",
      "include_colab_link": true
    },
    "kernelspec": {
      "name": "python3",
      "display_name": "Python 3"
    },
    "language_info": {
      "name": "python"
    }
  },
  "cells": [
    {
      "cell_type": "markdown",
      "metadata": {
        "id": "view-in-github",
        "colab_type": "text"
      },
      "source": [
        "<a href=\"https://colab.research.google.com/github/debashishdas40/Data-Analysis-With-Python-and-Pandas/blob/main/Data_Analysis_With_Python_and_Pandas.ipynb\" target=\"_parent\"><img src=\"https://colab.research.google.com/assets/colab-badge.svg\" alt=\"Open In Colab\"/></a>"
      ]
    },
    {
      "cell_type": "code",
      "execution_count": null,
      "metadata": {
        "id": "FhcAu8Fpexb9"
      },
      "outputs": [],
      "source": []
    },
    {
      "cell_type": "markdown",
      "source": [
        "Numpy array"
      ],
      "metadata": {
        "id": "nLSCndkzgmu7"
      }
    },
    {
      "cell_type": "code",
      "source": [
        "Sales= [0,5,155,0,518,0,1827,616,317,325]"
      ],
      "metadata": {
        "id": "pifrj4olgpDD"
      },
      "execution_count": null,
      "outputs": []
    },
    {
      "cell_type": "code",
      "source": [
        "import numpy as np\n",
        "sales_array = np.array(Sales)"
      ],
      "metadata": {
        "id": "ixMt9wUJg8nz"
      },
      "execution_count": null,
      "outputs": []
    },
    {
      "cell_type": "code",
      "source": [
        "type(sales_array)"
      ],
      "metadata": {
        "colab": {
          "base_uri": "https://localhost:8080/"
        },
        "id": "YVYx4r07hDQ1",
        "outputId": "1874f2ad-634f-4192-b5d5-8ea323c4692e"
      },
      "execution_count": null,
      "outputs": [
        {
          "output_type": "execute_result",
          "data": {
            "text/plain": [
              "numpy.ndarray"
            ]
          },
          "metadata": {},
          "execution_count": 7
        }
      ]
    },
    {
      "cell_type": "code",
      "source": [
        "print(f\"ndim:{sales_array.ndim}\")\n",
        "print(f\"shape:{sales_array.shape}\")\n",
        "print(f\"size:{sales_array.size}\")\n",
        "print(f\"dtype:{sales_array.dtype}\")"
      ],
      "metadata": {
        "colab": {
          "base_uri": "https://localhost:8080/"
        },
        "id": "em10W7zshPmy",
        "outputId": "535f7607-c11a-457e-c542-72ff43b3c3f1"
      },
      "execution_count": null,
      "outputs": [
        {
          "output_type": "stream",
          "name": "stdout",
          "text": [
            "ndim:1\n",
            "shape:(10,)\n",
            "size:10\n",
            "dtype:int64\n"
          ]
        }
      ]
    },
    {
      "cell_type": "code",
      "source": [
        "Sales_1= [[0,5,155,518],[1827,616,317,325]]"
      ],
      "metadata": {
        "id": "ZqgEbEyCim8z"
      },
      "execution_count": null,
      "outputs": []
    },
    {
      "cell_type": "code",
      "source": [
        "sales_array_1=np.array(Sales_1)"
      ],
      "metadata": {
        "id": "bd0Amm5ph_zv"
      },
      "execution_count": null,
      "outputs": []
    },
    {
      "cell_type": "code",
      "source": [
        "sales_array_1"
      ],
      "metadata": {
        "colab": {
          "base_uri": "https://localhost:8080/"
        },
        "id": "H-9z0RgOiZES",
        "outputId": "486714b1-99db-4bc2-b2f1-b0567ab8db11"
      },
      "execution_count": null,
      "outputs": [
        {
          "output_type": "execute_result",
          "data": {
            "text/plain": [
              "array([[   0,    5,  155,  518],\n",
              "       [1827,  616,  317,  325]])"
            ]
          },
          "metadata": {},
          "execution_count": 23
        }
      ]
    },
    {
      "cell_type": "code",
      "source": [
        "print(f\"ndim:{sales_array_1.ndim}\")\n",
        "print(f\"shape:{sales_array_1.shape}\")\n",
        "print(f\"size:{sales_array_1.size}\")\n",
        "print(f\"dtype:{sales_array_1.dtype}\")"
      ],
      "metadata": {
        "colab": {
          "base_uri": "https://localhost:8080/"
        },
        "id": "KjfqOurKixDz",
        "outputId": "bb8a29e4-0e01-49c7-f133-a5ce3ebbd2e0"
      },
      "execution_count": null,
      "outputs": [
        {
          "output_type": "stream",
          "name": "stdout",
          "text": [
            "ndim:2\n",
            "shape:(2, 4)\n",
            "size:8\n",
            "dtype:int64\n"
          ]
        }
      ]
    },
    {
      "cell_type": "code",
      "source": [
        "array= np.array(range(5))"
      ],
      "metadata": {
        "id": "cXDytJndjNbh"
      },
      "execution_count": null,
      "outputs": []
    },
    {
      "cell_type": "code",
      "source": [
        "array"
      ],
      "metadata": {
        "colab": {
          "base_uri": "https://localhost:8080/"
        },
        "id": "nyLUfNY3jg9B",
        "outputId": "df2c7bf8-0f63-4d56-d615-1e229fc8b97d"
      },
      "execution_count": null,
      "outputs": [
        {
          "output_type": "execute_result",
          "data": {
            "text/plain": [
              "array([0, 1, 2, 3, 4])"
            ]
          },
          "metadata": {},
          "execution_count": 27
        }
      ]
    },
    {
      "cell_type": "code",
      "source": [
        "array_2d= np.array([range(5),range(5)])"
      ],
      "metadata": {
        "id": "9pos2kigjlUs"
      },
      "execution_count": null,
      "outputs": []
    },
    {
      "cell_type": "code",
      "source": [
        "array_2d"
      ],
      "metadata": {
        "colab": {
          "base_uri": "https://localhost:8080/"
        },
        "id": "DtHMurTMjqvf",
        "outputId": "73071982-5254-4242-c819-e13024e10e5a"
      },
      "execution_count": null,
      "outputs": [
        {
          "output_type": "execute_result",
          "data": {
            "text/plain": [
              "array([[0, 1, 2, 3, 4],\n",
              "       [0, 1, 2, 3, 4]])"
            ]
          },
          "metadata": {},
          "execution_count": 30
        }
      ]
    },
    {
      "cell_type": "code",
      "source": [],
      "metadata": {
        "id": "mvwfXDWnjw7D"
      },
      "execution_count": null,
      "outputs": []
    }
  ]
}